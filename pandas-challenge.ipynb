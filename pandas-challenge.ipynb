{
 "cells": [
  {
   "cell_type": "code",
   "execution_count": 195,
   "id": "36c6775f-5aa2-4c55-b6c3-d8ed23411521",
   "metadata": {},
   "outputs": [
    {
     "data": {
      "text/html": [
       "<div>\n",
       "<style scoped>\n",
       "    .dataframe tbody tr th:only-of-type {\n",
       "        vertical-align: middle;\n",
       "    }\n",
       "\n",
       "    .dataframe tbody tr th {\n",
       "        vertical-align: top;\n",
       "    }\n",
       "\n",
       "    .dataframe thead th {\n",
       "        text-align: right;\n",
       "    }\n",
       "</style>\n",
       "<table border=\"1\" class=\"dataframe\">\n",
       "  <thead>\n",
       "    <tr style=\"text-align: right;\">\n",
       "      <th></th>\n",
       "      <th>Student ID</th>\n",
       "      <th>student_name</th>\n",
       "      <th>gender</th>\n",
       "      <th>grade</th>\n",
       "      <th>school_name</th>\n",
       "      <th>reading_score</th>\n",
       "      <th>math_score</th>\n",
       "      <th>School ID</th>\n",
       "      <th>type</th>\n",
       "      <th>size</th>\n",
       "      <th>budget</th>\n",
       "    </tr>\n",
       "  </thead>\n",
       "  <tbody>\n",
       "    <tr>\n",
       "      <th>0</th>\n",
       "      <td>0</td>\n",
       "      <td>Paul Bradley</td>\n",
       "      <td>M</td>\n",
       "      <td>9th</td>\n",
       "      <td>Huang High School</td>\n",
       "      <td>66</td>\n",
       "      <td>79</td>\n",
       "      <td>0</td>\n",
       "      <td>District</td>\n",
       "      <td>2917</td>\n",
       "      <td>1910635</td>\n",
       "    </tr>\n",
       "    <tr>\n",
       "      <th>1</th>\n",
       "      <td>1</td>\n",
       "      <td>Victor Smith</td>\n",
       "      <td>M</td>\n",
       "      <td>12th</td>\n",
       "      <td>Huang High School</td>\n",
       "      <td>94</td>\n",
       "      <td>61</td>\n",
       "      <td>0</td>\n",
       "      <td>District</td>\n",
       "      <td>2917</td>\n",
       "      <td>1910635</td>\n",
       "    </tr>\n",
       "    <tr>\n",
       "      <th>2</th>\n",
       "      <td>2</td>\n",
       "      <td>Kevin Rodriguez</td>\n",
       "      <td>M</td>\n",
       "      <td>12th</td>\n",
       "      <td>Huang High School</td>\n",
       "      <td>90</td>\n",
       "      <td>60</td>\n",
       "      <td>0</td>\n",
       "      <td>District</td>\n",
       "      <td>2917</td>\n",
       "      <td>1910635</td>\n",
       "    </tr>\n",
       "    <tr>\n",
       "      <th>3</th>\n",
       "      <td>3</td>\n",
       "      <td>Dr. Richard Scott</td>\n",
       "      <td>M</td>\n",
       "      <td>12th</td>\n",
       "      <td>Huang High School</td>\n",
       "      <td>67</td>\n",
       "      <td>58</td>\n",
       "      <td>0</td>\n",
       "      <td>District</td>\n",
       "      <td>2917</td>\n",
       "      <td>1910635</td>\n",
       "    </tr>\n",
       "    <tr>\n",
       "      <th>4</th>\n",
       "      <td>4</td>\n",
       "      <td>Bonnie Ray</td>\n",
       "      <td>F</td>\n",
       "      <td>9th</td>\n",
       "      <td>Huang High School</td>\n",
       "      <td>97</td>\n",
       "      <td>84</td>\n",
       "      <td>0</td>\n",
       "      <td>District</td>\n",
       "      <td>2917</td>\n",
       "      <td>1910635</td>\n",
       "    </tr>\n",
       "  </tbody>\n",
       "</table>\n",
       "</div>"
      ],
      "text/plain": [
       "   Student ID       student_name gender grade        school_name  \\\n",
       "0           0       Paul Bradley      M   9th  Huang High School   \n",
       "1           1       Victor Smith      M  12th  Huang High School   \n",
       "2           2    Kevin Rodriguez      M  12th  Huang High School   \n",
       "3           3  Dr. Richard Scott      M  12th  Huang High School   \n",
       "4           4         Bonnie Ray      F   9th  Huang High School   \n",
       "\n",
       "   reading_score  math_score  School ID      type  size   budget  \n",
       "0             66          79          0  District  2917  1910635  \n",
       "1             94          61          0  District  2917  1910635  \n",
       "2             90          60          0  District  2917  1910635  \n",
       "3             67          58          0  District  2917  1910635  \n",
       "4             97          84          0  District  2917  1910635  "
      ]
     },
     "execution_count": 195,
     "metadata": {},
     "output_type": "execute_result"
    }
   ],
   "source": [
    "import pandas as pd\n",
    "from pathlib import Path\n",
    "\n",
    "# load files\n",
    "school_data_to_load = Path(r\"C:\\Users\\rache\\pandas-challenge\\PyCitySchools\\Resources\\schools_complete.csv\")\n",
    "student_data_to_load = Path(r\"C:\\Users\\rache\\pandas-challenge\\PyCitySchools\\Resources\\students_complete.csv\")\n",
    "\n",
    "# read School and Student Data Files and store into Pandas dataframes\n",
    "school_data = pd.read_csv(school_data_to_load)\n",
    "student_data = pd.read_csv(student_data_to_load)\n",
    "\n",
    "# combine data into a single dataset\n",
    "school_data_complete = pd.merge(student_data, school_data, how=\"left\", on=[\"school_name\", \"school_name\"])\n",
    "school_data_complete.head()"
   ]
  },
  {
   "cell_type": "code",
   "execution_count": 196,
   "id": "352c684e-75b2-40a3-bf15-c832d3818585",
   "metadata": {},
   "outputs": [],
   "source": [
    "# calculate the total number of unique schools\n",
    "unique_school_name = school_data_complete['school_name'].unique()\n",
    "school_count = len(unique_school_name)"
   ]
  },
  {
   "cell_type": "code",
   "execution_count": 197,
   "id": "f40dc349-534e-4271-bf50-7c3d0ecb50ca",
   "metadata": {},
   "outputs": [],
   "source": [
    "# Calculate the total number of students\n",
    "total_students = school_data_complete['student_name'].count()"
   ]
  },
  {
   "cell_type": "code",
   "execution_count": 198,
   "id": "50f3a1c2-92da-4d52-a117-d46f1936b437",
   "metadata": {},
   "outputs": [],
   "source": [
    "# Calculate the total budget\n",
    "total_budget = school_data['budget'].sum()"
   ]
  },
  {
   "cell_type": "code",
   "execution_count": 199,
   "id": "b91f9257-9b25-406d-bbf8-13f4f5765129",
   "metadata": {},
   "outputs": [],
   "source": [
    "# Calculate the average (mean) math score\n",
    "average_math_score = school_data_complete['math_score'].mean()"
   ]
  },
  {
   "cell_type": "code",
   "execution_count": 200,
   "id": "c753204a-2de2-4464-b846-aae424aa7c5c",
   "metadata": {},
   "outputs": [],
   "source": [
    "# Calculate the average (mean) reading score\n",
    "average_reading_score = school_data_complete['reading_score'].mean()"
   ]
  },
  {
   "cell_type": "code",
   "execution_count": 201,
   "id": "277c9ee4-a50b-49b8-8651-9d396725f35e",
   "metadata": {},
   "outputs": [],
   "source": [
    "# Use the following to calculate the percentage of students who passed math \n",
    "# (math scores greater than or equal to 70)\n",
    "passing_math_count = school_data_complete[(school_data_complete[\"math_score\"] >= 70)].count()[\"student_name\"]\n",
    "passing_math_percentage = passing_math_count / float(total_students) * 100"
   ]
  },
  {
   "cell_type": "code",
   "execution_count": 202,
   "id": "e18bdd62-ca7c-48f4-b3a8-5dc08f33bc85",
   "metadata": {},
   "outputs": [],
   "source": [
    "# Calculate the percentage of students who passed reading\n",
    "passing_reading_count = school_data_complete[(school_data_complete['reading_score'] >= 70)].count()['student_name']\n",
    "passing_reading_percentage = passing_reading_count / float(total_students) * 100"
   ]
  },
  {
   "cell_type": "code",
   "execution_count": 203,
   "id": "5cc93bdc-66fc-469a-ba76-4063729ed2c7",
   "metadata": {},
   "outputs": [],
   "source": [
    "# Use the following to calculate the percentage of students that passed math and reading\n",
    "passing_math_reading_count = school_data_complete[\n",
    "    (school_data_complete[\"math_score\"] >= 70) & (school_data_complete[\"reading_score\"] >= 70)\n",
    "].count()[\"student_name\"]\n",
    "overall_passing_rate = passing_math_reading_count /  float(total_students) * 100\n"
   ]
  },
  {
   "cell_type": "code",
   "execution_count": 204,
   "id": "71e2fb9b-efbc-49b2-aa59-a0cbfff398b6",
   "metadata": {},
   "outputs": [
    {
     "data": {
      "text/html": [
       "<div>\n",
       "<style scoped>\n",
       "    .dataframe tbody tr th:only-of-type {\n",
       "        vertical-align: middle;\n",
       "    }\n",
       "\n",
       "    .dataframe tbody tr th {\n",
       "        vertical-align: top;\n",
       "    }\n",
       "\n",
       "    .dataframe thead th {\n",
       "        text-align: right;\n",
       "    }\n",
       "</style>\n",
       "<table border=\"1\" class=\"dataframe\">\n",
       "  <thead>\n",
       "    <tr style=\"text-align: right;\">\n",
       "      <th></th>\n",
       "      <th>Total Schools</th>\n",
       "      <th>Total Students</th>\n",
       "      <th>Total Budget</th>\n",
       "      <th>Average Math Score</th>\n",
       "      <th>Average Reading Score</th>\n",
       "      <th>% of Students Passing Math</th>\n",
       "      <th>% of Students Passing Reading</th>\n",
       "      <th>% of Students Passing Overall</th>\n",
       "    </tr>\n",
       "  </thead>\n",
       "  <tbody>\n",
       "    <tr>\n",
       "      <th>0</th>\n",
       "      <td>15</td>\n",
       "      <td>39170</td>\n",
       "      <td>24649428</td>\n",
       "      <td>78.985371</td>\n",
       "      <td>81.87784</td>\n",
       "      <td>74.980853</td>\n",
       "      <td>85.805463</td>\n",
       "      <td>65.172326</td>\n",
       "    </tr>\n",
       "  </tbody>\n",
       "</table>\n",
       "</div>"
      ],
      "text/plain": [
       "   Total Schools  Total Students  Total Budget  Average Math Score  \\\n",
       "0             15           39170      24649428           78.985371   \n",
       "\n",
       "   Average Reading Score  % of Students Passing Math  \\\n",
       "0               81.87784                   74.980853   \n",
       "\n",
       "   % of Students Passing Reading  % of Students Passing Overall  \n",
       "0                      85.805463                      65.172326  "
      ]
     },
     "execution_count": 204,
     "metadata": {},
     "output_type": "execute_result"
    }
   ],
   "source": [
    "# Create a high-level snapshot of the district's key metrics in a DataFrame\n",
    "district_summary = pd.DataFrame(\n",
    "    {\"Total Schools\" : school_count,\n",
    "     \"Total Students\" : total_students,\n",
    "     \"Total Budget\" : total_budget,\n",
    "     \"Average Math Score\" : average_math_score,\n",
    "     \"Average Reading Score\" : average_reading_score,\n",
    "     \"% of Students Passing Math\" : passing_math_percentage,\n",
    "     \"% of Students Passing Reading\" : passing_reading_percentage,\n",
    "     \"% of Students Passing Overall\" : overall_passing_rate}, index=[0])\n",
    "\n",
    "# Display the DataFrame\n",
    "district_summary"
   ]
  },
  {
   "cell_type": "code",
   "execution_count": 205,
   "id": "22e4eae8-b33e-4530-9f32-d259dd9a1341",
   "metadata": {},
   "outputs": [
    {
     "data": {
      "text/plain": [
       "school_name\n",
       "Huang High School        District\n",
       "Figueroa High School     District\n",
       "Shelton High School       Charter\n",
       "Hernandez High School    District\n",
       "Griffin High School       Charter\n",
       "Wilson High School        Charter\n",
       "Cabrera High School       Charter\n",
       "Bailey High School       District\n",
       "Holden High School        Charter\n",
       "Pena High School          Charter\n",
       "Wright High School        Charter\n",
       "Rodriguez High School    District\n",
       "Johnson High School      District\n",
       "Ford High School         District\n",
       "Thomas High School        Charter\n",
       "Name: type, dtype: object"
      ]
     },
     "execution_count": 205,
     "metadata": {},
     "output_type": "execute_result"
    }
   ],
   "source": [
    "# School Type\n",
    "school_types = school_data.set_index(['school_name'])['type']\n",
    "school_types"
   ]
  },
  {
   "cell_type": "code",
   "execution_count": 372,
   "id": "1a68ffb6-5e20-44b5-8798-cb3d772c7dae",
   "metadata": {},
   "outputs": [
    {
     "data": {
      "text/plain": [
       "school_name\n",
       "Huang High School        2917\n",
       "Figueroa High School     2949\n",
       "Shelton High School      1761\n",
       "Hernandez High School    4635\n",
       "Griffin High School      1468\n",
       "Wilson High School       2283\n",
       "Cabrera High School      1858\n",
       "Bailey High School       4976\n",
       "Holden High School        427\n",
       "Pena High School          962\n",
       "Wright High School       1800\n",
       "Rodriguez High School    3999\n",
       "Johnson High School      4761\n",
       "Ford High School         2739\n",
       "Thomas High School       1635\n",
       "Name: size, dtype: int64"
      ]
     },
     "execution_count": 372,
     "metadata": {},
     "output_type": "execute_result"
    }
   ],
   "source": [
    "# Total Student Count Per School\n",
    "per_school_counts = school_data.set_index(['school_name'])['size']\n",
    "per_school_counts "
   ]
  },
  {
   "cell_type": "code",
   "execution_count": 254,
   "id": "5908dbc5-a0b2-4216-8c98-a1624fc920e5",
   "metadata": {},
   "outputs": [],
   "source": [
    "# Total School Budget\n",
    "total_school_budget = school_data.set_index('school_name')['budget']\n",
    "total_school_budget = pd.DataFrame(total_school_budget)"
   ]
  },
  {
   "cell_type": "code",
   "execution_count": 259,
   "id": "16fb91d2-f9fe-47c8-871f-8d0f7b9bef96",
   "metadata": {},
   "outputs": [],
   "source": [
    "# Per Student Budget\n",
    "per_student_capita = school_data.set_index('school_name')['budget']/school_data.set_index('school_name')['size']\n",
    "per_student_capita = pd.DataFrame(per_student_capita)"
   ]
  },
  {
   "cell_type": "code",
   "execution_count": 309,
   "id": "402df0e4-d561-4c6b-89ef-3a7911c6cac5",
   "metadata": {},
   "outputs": [],
   "source": [
    "# Average Math Score by School\n",
    "avg_math_score_by_school = school_data_complete.groupby('school_name')['math_score'].mean()"
   ]
  },
  {
   "cell_type": "code",
   "execution_count": 310,
   "id": "450cf740-87da-4d4f-9291-81bc5e22667d",
   "metadata": {},
   "outputs": [],
   "source": [
    "# Average Reading Score by School\n",
    "avg_reading_score_by_school = school_data_complete.groupby('school_name')['reading_score'].mean()"
   ]
  },
  {
   "cell_type": "code",
   "execution_count": 368,
   "id": "e2835ea5-6be6-4e76-8892-b7d1ed66a95f",
   "metadata": {},
   "outputs": [],
   "source": [
    "# Number of Students Passing Math Per School\n",
    "students_passing_math = school_data_complete[school_data_complete['math_score'] >= 70]\n",
    "school_students_passing_math = school_data_complete[school_data_complete['math_score'] >= 70].groupby('school_name')['Student ID'].count()"
   ]
  },
  {
   "cell_type": "code",
   "execution_count": 357,
   "id": "c1c04b16-a4dd-4353-86fb-e3cb2c707ff6",
   "metadata": {},
   "outputs": [],
   "source": [
    "# Number of Students Passing Reading Per School\n",
    "students_passing_reading = school_data_complete[school_data_complete['reading_score'] >= 70]\n",
    "school_students_passing_reading = school_data_complete[school_data_complete['reading_score'] >= 70].groupby('school_name')['Student ID'].count()"
   ]
  },
  {
   "cell_type": "code",
   "execution_count": 363,
   "id": "08d718cd-f6bf-43e3-9973-0c1074bd43be",
   "metadata": {},
   "outputs": [],
   "source": [
    "# % Passing Overall\n",
    "students_passing_math_and_reading = school_data_complete[\n",
    "    (school_data_complete[\"reading_score\"] >= 70) & (school_data_complete[\"math_score\"] >= 70)\n",
    "]\n",
    "school_students_passing_math_and_reading = students_passing_math_and_reading.groupby([\"school_name\"]).size()"
   ]
  },
  {
   "cell_type": "code",
   "execution_count": 380,
   "id": "8ad8d2b7-8054-40b6-afae-3d5da9225546",
   "metadata": {},
   "outputs": [],
   "source": [
    "# Use the provided code to calculate the passing rates\n",
    "per_school_passing_math = school_data_complete[school_data_complete['math_score'] >= 70].groupby('school_name')['Student ID'].count() / per_school_counts * 100\n",
    "per_school_passing_reading = school_data_complete[school_data_complete['reading_score'] >= 70].groupby('school_name')['Student ID'].count() / per_school_counts * 100\n",
    "overall_passing_rate = students_passing_math_and_reading.groupby([\"school_name\"]).size() / per_school_counts * 100"
   ]
  },
  {
   "cell_type": "code",
   "execution_count": null,
   "id": "8522d483-796a-42b2-88b3-e264d905571a",
   "metadata": {},
   "outputs": [],
   "source": []
  }
 ],
 "metadata": {
  "kernelspec": {
   "display_name": "Python 3 (ipykernel)",
   "language": "python",
   "name": "python3"
  },
  "language_info": {
   "codemirror_mode": {
    "name": "ipython",
    "version": 3
   },
   "file_extension": ".py",
   "mimetype": "text/x-python",
   "name": "python",
   "nbconvert_exporter": "python",
   "pygments_lexer": "ipython3",
   "version": "3.10.14"
  }
 },
 "nbformat": 4,
 "nbformat_minor": 5
}
